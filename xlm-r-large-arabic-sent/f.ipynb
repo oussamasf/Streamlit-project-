{
 "cells": [
  {
   "cell_type": "code",
   "execution_count": 1,
   "metadata": {},
   "outputs": [
    {
     "name": "stderr",
     "output_type": "stream",
     "text": [
      "Some weights of the model checkpoint at akhooli/xlm-r-large-arabic-sent were not used when initializing XLMRobertaForSequenceClassification: ['roberta.pooler.dense.bias', 'roberta.pooler.dense.weight']\n",
      "- This IS expected if you are initializing XLMRobertaForSequenceClassification from the checkpoint of a model trained on another task or with another architecture (e.g. initializing a BertForSequenceClassification model from a BertForPreTraining model).\n",
      "- This IS NOT expected if you are initializing XLMRobertaForSequenceClassification from the checkpoint of a model that you expect to be exactly identical (initializing a BertForSequenceClassification model from a BertForSequenceClassification model).\n"
     ]
    }
   ],
   "source": [
    "from transformers import pipeline \n",
    "# this will download 2 GB\n",
    "nlp = pipeline(\"sentiment-analysis\", model='akhooli/xlm-r-large-arabic-sent')"
   ]
  },
  {
   "cell_type": "code",
   "execution_count": 2,
   "metadata": {},
   "outputs": [
    {
     "name": "stdout",
     "output_type": "stream",
     "text": [
      "[{'label': 'LABEL_1', 'score': 0.7496656775474548}]\n",
      "[{'label': 'LABEL_2', 'score': 0.7112253308296204}]\n",
      "[{'label': 'LABEL_0', 'score': 0.5494162440299988}]\n",
      "[{'label': 'LABEL_2', 'score': 0.9656060338020325}]\n",
      "[{'label': 'LABEL_1', 'score': 0.9788309931755066}]\n",
      "[{'label': 'LABEL_2', 'score': 0.9744839072227478}]\n"
     ]
    }
   ],
   "source": [
    "# 0 mixed, 1 negative, 2 positive\n",
    "print(nlp(\"I hate you\")) # En negative\n",
    "print(nlp(\"I love you\")) # En positive\n",
    "print(nlp(\"المنتج جيد جدا ولكنه وصل بحالة غير ممتازة\")) # Ar mixed\n",
    "# Ar positive\n",
    "print(nlp(\"موقع المكان جميل جداً البناء قديم جداً ، يقدم الاكل طازج ولذيذ، معامله وخدمه ممتازه، انصح جداً بزياره المكان ، انا زبون دائم، وايضاً قريب على كنيسه المهد\"))\n",
    "# Ar negative\n",
    "print(nlp(\"ببساطه اسوأ طيران في العالم , الطياره قديمه جدا جدا والطاقم والموظفين عند الوزن سيئين جدااااااااا الى ابعد الحدود + فقدو شنته السفر + تأخير طياره نصيحه من مجرب لا تحجز على الطيران الملكيه اسوأ طيران قد ركبته\"))\n",
    "# Ar and En positive \n",
    "print(nlp(\"كانت الخدمة super!\"))\n",
    "\n"
   ]
  },
  {
   "cell_type": "code",
   "execution_count": 3,
   "metadata": {},
   "outputs": [],
   "source": [
    " a = nlp(\"كانت الخدمة super!\")"
   ]
  },
  {
   "cell_type": "code",
   "execution_count": 13,
   "metadata": {},
   "outputs": [
    {
     "data": {
      "text/plain": [
       "0.9744839072227478"
      ]
     },
     "execution_count": 13,
     "metadata": {},
     "output_type": "execute_result"
    }
   ],
   "source": [
    "a[0]['score']"
   ]
  },
  {
   "cell_type": "code",
   "execution_count": 14,
   "metadata": {},
   "outputs": [
    {
     "name": "stderr",
     "output_type": "stream",
     "text": [
      "C:\\Users\\ousf\\AppData\\Local\\Temp/ipykernel_19308/1154364122.py:13: UserWarning: Matplotlib is currently using module://matplotlib_inline.backend_inline, which is a non-GUI backend, so cannot show the figure.\n",
      "  fig1.show()\n"
     ]
    },
    {
     "data": {
      "image/png": "[encoded data removed]",
      "text/plain": [
       "<Figure size 432x288 with 1 Axes>"
      ]
     },
     "metadata": {},
     "output_type": "display_data"
    }
   ],
   "source": [
    "\n",
    "# Pie chart, where the slices will be ordered and plotted counter-clockwise:\n",
    "labels = 'Frogs', 'Hogs'\n",
    "sizes = [a[0]['score'] ,1-a[0]['score']]\n",
    "explode = (0, 0.1) # only \"explode\" the 2nd slice (i.e. 'Hogs')\n",
    "\n",
    "fig1, ax1 = plt.subplots()\n",
    "ax1.pie(sizes, explode=explode, labels=labels, autopct='%1.1f%%',\n",
    "        shadow=True, startangle=90)\n",
    "ax1.axis('equal')  # Equal aspect ratio ensures that pie is drawn as a circle.\n",
    "\n",
    "fig1.show()"
   ]
  },
  {
   "cell_type": "code",
   "execution_count": null,
   "metadata": {},
   "outputs": [],
   "source": []
  }
 ],
 "metadata": {
  "interpreter": {
   "hash": "3d52abf074781c081da36dafea13d1fa173da3157acd1d8453f5f3392210d2f3"
  },
  "kernelspec": {
   "display_name": "Python 3.9.7 64-bit ('nlparabic': conda)",
   "language": "python",
   "name": "python3"
  },
  "language_info": {
   "codemirror_mode": {
    "name": "ipython",
    "version": 3
   },
   "file_extension": ".py",
   "mimetype": "text/x-python",
   "name": "python",
   "nbconvert_exporter": "python",
   "pygments_lexer": "ipython3",
   "version": "3.9.7"
  },
  "orig_nbformat": 4
 },
 "nbformat": 4,
 "nbformat_minor": 2
}
